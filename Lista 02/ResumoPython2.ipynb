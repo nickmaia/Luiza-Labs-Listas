{
 "cells": [
  {
   "cell_type": "markdown",
   "metadata": {},
   "source": [
    "# Python II - Programação Orientada a Objetos"
   ]
  },
  {
   "cell_type": "markdown",
   "metadata": {},
   "source": [
    "A Programação Orientada a Objetos (POO) é um paradigma de programação baseado no conceito de Classes e Objetos.\n",
    "\n",
    "Classes podem conter dados e código:\n",
    "\n",
    "Dados na forma de campos (também chamamos de atributos ou propriedades); e\n",
    "Código, na forma de procedimentos (frequentemente conhecido como métodos).\n",
    "\n",
    "Uma importante característica dos objetos é que seus próprios métodos podem acessar e frequentemente modificar seus campos de dados: objetos mantém uma referência para si mesmo, o atributo self no Python.\n",
    "\n",
    "Esses conceitos são os pilares da Programação Orientada a Objetos então é muito importante que você os DOMINE:\n",
    "\n",
    "** As **Classes** são tipos de dados definidos pelo desenvolvedor que atuam como um modelo para objetos. Pra não esquecer mais: Classes são fôrmas de bolo e bolos são objetos\n",
    "\n",
    "\n",
    "** **Objetos** são instâncias de uma Classe. Objetos podem modelar entidades do mundo real (Carro, Pessoa, Usuário) ou entidades abstratas (Temperatura, Umidade, Medição, Configuração).\n",
    "\n",
    "\n",
    "** **Métodos** são funções definidas dentro de uma classe que descreve os comportamentos de um objeto. Em Python, o primeiro parâmetro dos métodos é sempre uma referência ao próprio objeto.\n",
    "\n",
    "\n",
    "** Os **Atributos** são definidos na Classe e representam o estado de um objeto. Os objetos terão dados armazenados nos campos de atributos. Também existe o conceito de atributos de classe, mas veremos isso mais pra frente."
   ]
  },
  {
   "cell_type": "markdown",
   "metadata": {},
   "source": [
    "### Encapsulamento\n",
    "\n",
    "O encapsulamento pode ser descrito como uma barreira protetora que impede que o código e os dados sejam acessados aleatoriamente por outro código definido fora da classe. O acesso aos dados e ao código é rigidamente controlado por uma classe."
   ]
  },
  {
   "cell_type": "code",
   "execution_count": 3,
   "metadata": {},
   "outputs": [
    {
     "name": "stdout",
     "output_type": "stream",
     "text": [
      "O salario de Nicole é 800 R$\n"
     ]
    }
   ],
   "source": [
    "class Professor:\n",
    "    def __init__(self, nome:str, idade:int, salario:float):\n",
    "        self.nome = nome\n",
    "        self.idade = idade\n",
    "        self.salario = salario\n",
    "\n",
    "    def __dados_privados(self):\n",
    "        return f\"O salario de {self.nome} é {self.salario} R$\"\n",
    "\n",
    "    def confirmacao(self):\n",
    "        if self.nome == \"Nicole\":\n",
    "            return self.__dados_privados()\n",
    "        return \"Você não tem acesso a está informação\"\n",
    "\n",
    "    def teste(self):\n",
    "        return self.__dados_privados()\n",
    "\n",
    "\n",
    "usuario1 = Professor(\"Nicole\", 22, 800)\n",
    "print(usuario1.teste())\n",
    "user1 = usuario1.confirmacao()"
   ]
  },
  {
   "cell_type": "markdown",
   "metadata": {},
   "source": [
    "### Abstração\n",
    "É um processo de ocultar os detalhes de implementação do usuário, apenas a funcionalidade será fornecida.\n",
    "Em outras palavras, o usuário terá a informação sobre o que o objeto faz ao invés de como ele faz."
   ]
  },
  {
   "cell_type": "code",
   "execution_count": 5,
   "metadata": {},
   "outputs": [
    {
     "name": "stdout",
     "output_type": "stream",
     "text": [
      "25\n",
      "20\n"
     ]
    }
   ],
   "source": [
    "class Quadrado:\n",
    "    def __init__(self, comprimento:float) -> None:\n",
    "        self.comprimento = comprimento\n",
    "\n",
    "    def area(self):\n",
    "        return self.comprimento**2\n",
    "\n",
    "    def perimetro(self):\n",
    "        return self.comprimento * 4\n",
    "\n",
    "area_quadrado1 = Quadrado(5)\n",
    "print(area_quadrado1.area())\n",
    "\n",
    "area_quadrado2 = Quadrado(5)\n",
    "print(area_quadrado2.perimetro())\n"
   ]
  },
  {
   "cell_type": "markdown",
   "metadata": {},
   "source": [
    "### Herança\n",
    "Como o processo onde uma classe adquire as propriedades (métodos e campos) de outra.\n",
    "A herança pode ser do tipo simples, múltipla ou multinível"
   ]
  },
  {
   "cell_type": "code",
   "execution_count": 1,
   "metadata": {},
   "outputs": [
    {
     "name": "stdout",
     "output_type": "stream",
     "text": [
      "Fulano é menor de idade, portanto não pode fumar\n",
      "Fulano é fumante tem 17 anos e seu documento de identificação é o cpf 1234567899-87\n"
     ]
    }
   ],
   "source": [
    "# Método de Classe\n",
    "class Pessoa:\n",
    "    def __init__(self, cpf:str, nome:str, idade:int) -> None:\n",
    "        self.cpf = cpf\n",
    "        self.nome = nome\n",
    "        self.idade = idade\n",
    "        pass\n",
    "\n",
    "    def maior_idade(self):\n",
    "        if self.idade >= 18:\n",
    "            return f\"{self.nome} é maior de idade, portanto pode fumar\"\n",
    "        return f\"{self.nome} é menor de idade, portanto não pode fumar\"\n",
    "\n",
    "\n",
    "# Método de Herança\n",
    "class Fulano(Pessoa):\n",
    "    def __init__(self, cpf:str, nome:str, idade:int, fumante:bool) -> None:\n",
    "        self.fumante = fumante\n",
    "        super().__init__(cpf, nome, idade)\n",
    "\n",
    "    def determinante(self):\n",
    "        if self.fumante == True:\n",
    "            return f\"{self.nome} é fumante tem {self.idade} anos e seu documento de identificação é o cpf {self.cpf}\"\n",
    "        return f\"{self.nome} não é fumante tem {self.idade} anos e o seu documento de identificação é o cpf {self.cpf}\"\n",
    "\n",
    "\n",
    "fulano = Pessoa(\"1234567899-87\", \"Fulano\", 17)\n",
    "fulano = Fulano(\"1234567899-87\", \"Fulano\", 17, True)\n",
    "print(fulano.maior_idade())\n",
    "print(fulano.determinante())\n"
   ]
  },
  {
   "cell_type": "markdown",
   "metadata": {},
   "source": [
    "### Polimorfismo\n",
    "\n",
    "É a característica de poder atribuir um significado ou uso diferente a algo em diferentes contextos – especificamente, permitir que uma entidade como uma função ou um objeto tenha mais de uma forma."
   ]
  },
  {
   "cell_type": "code",
   "execution_count": 2,
   "metadata": {},
   "outputs": [
    {
     "name": "stdout",
     "output_type": "stream",
     "text": [
      "Bertano é o dono da empresa com cnpj 654893217812\n",
      "Sicrano é o funcionario com cpf 51548484848448\n"
     ]
    }
   ],
   "source": [
    "class PessoaJuridica(Pessoa):\n",
    "    def __init__(self, cpf:str, nome:str, idade:int, cnpj:str, empregador:bool ) -> None:\n",
    "        super().__init__(cpf, nome, idade)\n",
    "        self.cnpj = cnpj\n",
    "        self.empregador = empregador\n",
    "\n",
    "    def trabalho(self):\n",
    "        if self.empregador == True:\n",
    "            return f\"{self.nome} é o dono da empresa com cnpj {self.cnpj}\"\n",
    "        return f\"{self.nome} é o funcionario com cpf {self.cpf}\"\n",
    "\n",
    "\n",
    "bertano = PessoaJuridica(\"51548484848448\", \"Bertano\", 40, \"654893217812\", True)\n",
    "sicrano = PessoaJuridica(\"51548484848448\", \"Sicrano\", 18, \"654893217812\", False)\n",
    "print(bertano.trabalho())\n",
    "print(sicrano.trabalho())"
   ]
  },
  {
   "cell_type": "markdown",
   "metadata": {},
   "source": [
    "### Métodos Privados\n",
    "São aqueles que não devem ser acessados fora da classe, nem por nenhuma\n",
    "classe base. Para definir um método privado, prefixe o nome dele com\n",
    "sublinhado duplo “ __ ”"
   ]
  },
  {
   "cell_type": "markdown",
   "metadata": {},
   "source": [
    "### Construtor - self\n",
    "O self é usado para chamar atributos e métodos dentro da própria classe,representa a instância da classe."
   ]
  },
  {
   "cell_type": "markdown",
   "metadata": {},
   "source": [
    "### Construtor - __init__()\n",
    "O método __init__() vai definir o estado inicial do objeto atribuindo os valores das propriedades do objeto e é ele que vai inicializar cada nova instância da classe."
   ]
  }
 ],
 "metadata": {
  "kernelspec": {
   "display_name": "Python 3 (ipykernel)",
   "language": "python",
   "name": "python3"
  },
  "language_info": {
   "codemirror_mode": {
    "name": "ipython",
    "version": 3
   },
   "file_extension": ".py",
   "mimetype": "text/x-python",
   "name": "python",
   "nbconvert_exporter": "python",
   "pygments_lexer": "ipython3",
   "version": "3.10.5"
  },
  "vscode": {
   "interpreter": {
    "hash": "ded3c5602b61f7e4a12c38ad20e5c6d3256f092772182698136eedbab762b2be"
   }
  }
 },
 "nbformat": 4,
 "nbformat_minor": 2
}
