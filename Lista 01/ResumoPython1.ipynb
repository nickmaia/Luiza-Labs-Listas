{
 "cells": [
  {
   "cell_type": "markdown",
   "metadata": {},
   "source": [
    "# Python I - Fundamentos\n",
    "\n",
    "### Ementa:\n",
    "\n",
    "\n",
    "#### 1 - Tipos básicos:\n",
    "\n",
    "\n",
    "    * int\n",
    "    * float\n",
    "    * bool\n",
    "    * str\n",
    "    \n",
    "    \n",
    "#### 2 - Variáveis\n",
    "\n",
    "\n",
    "#### 3 - Comentários\n",
    "\n",
    "\n",
    "#### 4 - Operadores\n",
    "\n",
    "\n",
    "    * aritméticos\n",
    "    * comparativos\n",
    "    * de atribuição\n",
    "    * lógicos\n",
    "    \n",
    "#### 5 - Conversão de tipos\n",
    "\n",
    "#### 6 - Listas\n",
    "\n",
    "#### 7 - Tuplas\n",
    "\n",
    "#### 8 - Funções\n",
    "\n",
    "    * Map\n",
    "    * Filter\n",
    "    * Reduce\n",
    "    \n",
    "#### 9 - Tipos de parâmetros (args, kwargs)\n",
    "\n",
    "#### 10 - Decorator\n",
    "\n",
    "#### 11 - Lambda\n"
   ]
  },
  {
   "cell_type": "markdown",
   "metadata": {},
   "source": [
    "### 1 - Tipos Básicos\n",
    "\n",
    "#### int\n",
    "   O tipo inteiro é um tipo composto por caracteres numéricos inteiros.\n",
    "   (decimal)"
   ]
  },
  {
   "cell_type": "code",
   "execution_count": 2,
   "metadata": {
    "scrolled": true
   },
   "outputs": [
    {
     "name": "stdout",
     "output_type": "stream",
     "text": [
      "<class 'int'>\n",
      "<class 'int'>\n",
      "<class 'float'>\n"
     ]
    }
   ],
   "source": [
    "int1 = 1\n",
    "int2 = -1\n",
    "notint = 1.1\n",
    "\n",
    "print(type(int1))\n",
    "print(type(int2))\n",
    "print(type(notint))"
   ]
  },
  {
   "cell_type": "markdown",
   "metadata": {},
   "source": [
    "#### float\n",
    "   É um tipo composto por caracteres numéricos decimais.\n",
    "   (números racionais)"
   ]
  },
  {
   "cell_type": "code",
   "execution_count": 4,
   "metadata": {},
   "outputs": [
    {
     "name": "stdout",
     "output_type": "stream",
     "text": [
      "<class 'float'>\n",
      "<class 'float'>\n",
      "<class 'int'>\n"
     ]
    }
   ],
   "source": [
    "float1 = 1.1\n",
    "float2 = -1.1\n",
    "notfloat = 1\n",
    "\n",
    "print(type(float1))\n",
    "print(type(float2))\n",
    "print(type(notfloat))"
   ]
  },
  {
   "cell_type": "markdown",
   "metadata": {},
   "source": [
    "#### bool\n",
    "Tipo de dado lógico que pode assumir apenas dois valores: falso ou verdadeiro.\n",
    "Na lógica computacional, podem ser considerados como 0 ou 1."
   ]
  },
  {
   "cell_type": "code",
   "execution_count": 2,
   "metadata": {},
   "outputs": [
    {
     "name": "stdout",
     "output_type": "stream",
     "text": [
      "<class 'bool'>\n",
      "<class 'bool'>\n"
     ]
    }
   ],
   "source": [
    "boll1 = True\n",
    "boll2 = False\n",
    "\n",
    "print(type(boll1))\n",
    "print(type(boll2))"
   ]
  },
  {
   "cell_type": "markdown",
   "metadata": {},
   "source": [
    "#### str\n",
    "É um conjunto de caracteres dispostos numa determinada ordem. (Strings)"
   ]
  },
  {
   "cell_type": "code",
   "execution_count": 3,
   "metadata": {},
   "outputs": [
    {
     "name": "stdout",
     "output_type": "stream",
     "text": [
      "<class 'str'>\n",
      "<class 'str'>\n"
     ]
    }
   ],
   "source": [
    "i = 1\n",
    "str1 = \"Teste\"\n",
    "str2 = f\"teste {i}\"\n",
    "\n",
    "print(type(str1))\n",
    "print(type(str2))"
   ]
  },
  {
   "cell_type": "markdown",
   "metadata": {},
   "source": [
    "### 2 - Variáveis\n",
    "Variáveis são usadas para guardarmos valores que serão reutilizados mais tarde no\n",
    "programa."
   ]
  },
  {
   "cell_type": "code",
   "execution_count": 7,
   "metadata": {},
   "outputs": [
    {
     "name": "stdout",
     "output_type": "stream",
     "text": [
      "teste 1 é True\n"
     ]
    }
   ],
   "source": [
    "i = 1\n",
    "j = True\n",
    "Variavel = f\"teste {i} é {j}\"\n",
    "print(Variavel)"
   ]
  },
  {
   "cell_type": "markdown",
   "metadata": {},
   "source": [
    "### 3 - Comentários\n",
    " É uma linha que você escreve no código fonte, porém esse comentário não\n",
    "é interpretado na linguagem de programação."
   ]
  },
  {
   "cell_type": "code",
   "execution_count": 8,
   "metadata": {},
   "outputs": [
    {
     "data": {
      "text/plain": [
       "'\\nNeste comenta todas as linhas que estiverem entre aspas triplas.\\n'"
      ]
     },
     "execution_count": 8,
     "metadata": {},
     "output_type": "execute_result"
    }
   ],
   "source": [
    "# Neste tipo comenta somente a linha que estiver na frente do jogo da velha.\n",
    "\"\"\"\n",
    "Neste comenta todas as linhas que estiverem entre aspas triplas.\n",
    "\"\"\""
   ]
  },
  {
   "cell_type": "markdown",
   "metadata": {},
   "source": [
    "### 4 - Operadores"
   ]
  },
  {
   "cell_type": "markdown",
   "metadata": {},
   "source": [
    "#### Operadores Aritméticos "
   ]
  },
  {
   "cell_type": "code",
   "execution_count": 13,
   "metadata": {},
   "outputs": [
    {
     "name": "stdout",
     "output_type": "stream",
     "text": [
      "12\n",
      "8\n",
      "20\n",
      "5.0\n",
      "5\n",
      "0\n",
      "100\n"
     ]
    }
   ],
   "source": [
    "print(10+2) #Adição\n",
    "print(10-2) #Subtração\n",
    "print(10*2) #Multiplicação\n",
    "print(10/2) #Divisão \n",
    "print(10//2) #Divisão inteira\n",
    "print(10%2) #Módulo ou resto da divisão\n",
    "print(10**2) #Exponenciação"
   ]
  },
  {
   "cell_type": "markdown",
   "metadata": {},
   "source": [
    "#### Operadores Comparativos"
   ]
  },
  {
   "cell_type": "code",
   "execution_count": 17,
   "metadata": {
    "scrolled": true
   },
   "outputs": [
    {
     "name": "stdout",
     "output_type": "stream",
     "text": [
      "False\n",
      "True\n",
      "True\n",
      "True\n",
      "False\n",
      "False\n"
     ]
    }
   ],
   "source": [
    "print(10==2) #Igual a\n",
    "print(10!=2) #Diferente de\n",
    "print(10>2) #Maior que\n",
    "print(10>=2) #Maior ou igual \n",
    "print(10<2) #Menor que\n",
    "print(10<=2) #Menor ou igual"
   ]
  },
  {
   "cell_type": "markdown",
   "metadata": {},
   "source": [
    "#### Operadores de Atribuição"
   ]
  },
  {
   "cell_type": "code",
   "execution_count": 19,
   "metadata": {},
   "outputs": [],
   "source": [
    "x = 1     #Atribuição\n",
    "\n",
    "x = x + 1 #Forma 1 Somatório\n",
    "x += 1    #Forma 2\n",
    "\n",
    "x = x - 1 #Forma 1\n",
    "x -= 1    #Forma 2\n",
    "\n",
    "x = x * 1 #Forma 1\n",
    "x *= 1    #Forma 2\n",
    "\n",
    "x = x / 1 #Forma 1\n",
    "x /= 1    #Forma 2\n",
    "\n",
    "x = x % 1 #Forma 1\n",
    "x %= 1    #Forma 2"
   ]
  },
  {
   "cell_type": "markdown",
   "metadata": {},
   "source": [
    "#### Operadores Lógicos"
   ]
  },
  {
   "cell_type": "code",
   "execution_count": 24,
   "metadata": {},
   "outputs": [
    {
     "name": "stdout",
     "output_type": "stream",
     "text": [
      "True\n",
      "True\n",
      "True\n"
     ]
    }
   ],
   "source": [
    "x = 1\n",
    "y = 2\n",
    "\n",
    "print(x == 1 and y == 2) #Retorna True se ambas afirmações forem verdadeiras, \"e\"\n",
    "print(x == 1 or y == 2) #Retorna True se uma das afirmações for verdadeira, \"ou\"\n",
    "print(not x == 2) #Retorna falso se o resultado for verdadeiro, \"não\""
   ]
  },
  {
   "cell_type": "markdown",
   "metadata": {},
   "source": [
    "### 5 - Conversão de Tipos"
   ]
  },
  {
   "cell_type": "markdown",
   "metadata": {},
   "source": [
    "A conversão de dados em Python, são o uso de funções definidas que convertem diretamente um tipo de dado em outro.\n",
    "Existem dois tipos de conversão aqui:\n",
    "● Implícita\n",
    "● Explícita"
   ]
  },
  {
   "cell_type": "markdown",
   "metadata": {},
   "source": [
    "#### Conversão Implícita\n",
    "Na conversão implícita, acontece do interpretador converter automaticamente um tipo de dado em outro sem qualquer envolvimento\n",
    "do usuário.\n"
   ]
  },
  {
   "cell_type": "code",
   "execution_count": 28,
   "metadata": {},
   "outputs": [
    {
     "name": "stdout",
     "output_type": "stream",
     "text": [
      "<class 'int'>\n",
      "<class 'float'>\n"
     ]
    }
   ],
   "source": [
    "a = 1\n",
    "b = 5.8\n",
    "\n",
    "soma = a + b\n",
    "\n",
    "print(type(a))\n",
    "print(type(soma))"
   ]
  },
  {
   "cell_type": "markdown",
   "metadata": {},
   "source": [
    "#### Conversão Explícita\n",
    "Este tipo de conversão é feita manualmente pelo usuário de acordo com seus requisitos, existem várias formas de conversão que se pode fazer nesse tipo, usando as funções do Python:\n",
    "\n",
    "● int(a, base): essa função converte qualquer tipo de dado em inteiro. ‘Base’ especifica a base em que a string está se o tipo de dados for uma string.\n",
    "\n",
    "● float(): função usada para converter qualquer tipo de dados em um float.\n",
    "\n",
    "● str(): usada para converter números inteiros em strings.\n",
    "\n",
    "● dict(): usada para converter tuplas em dicionário.\n",
    "\n",
    "● ord(): função usada para converter qualquer caractere em um inteiro.\n",
    "\n",
    "● hex(): função que converte número inteiro em uma string hexadecimal.\n",
    "\n",
    "● oct(): converte um número inteiro em octal.\n",
    "\n",
    "● tupla(): converte para uma tupla.\n"
   ]
  },
  {
   "cell_type": "code",
   "execution_count": 29,
   "metadata": {},
   "outputs": [
    {
     "name": "stdout",
     "output_type": "stream",
     "text": [
      "<class 'int'>\n",
      "<class 'float'>\n",
      "<class 'str'>\n"
     ]
    }
   ],
   "source": [
    "a = 1\n",
    "b = 5.8\n",
    "\n",
    "transformada = str(a)\n",
    "\n",
    "print(type(a))\n",
    "print(type(b))\n",
    "print(type(transformada))"
   ]
  },
  {
   "cell_type": "markdown",
   "metadata": {},
   "source": [
    "### 6 - Listas"
   ]
  },
  {
   "cell_type": "markdown",
   "metadata": {},
   "source": [
    "Uma lista é uma estrutura de dados composta por itens organizados de forma linear, na qual cada um pode ser acessado a partir de um índice, que representa sua posição na coleção (iniciando em zero).\n",
    "\n",
    "Para mais conteudo acesse: https://github.com/nickmaia/Jupyter_Notebook_Notes/blob/main/Resumo%20Python.ipynb"
   ]
  },
  {
   "cell_type": "markdown",
   "metadata": {},
   "source": [
    "#### Criando listas\n",
    " Uma lista é representada como uma sequência de objetos separados por vírgula e dentro de colchetes [], assim, uma lista vazia, por exemplo, pode ser representada por colchetes sem nenhum conteúdo. \n",
    " \n",
    "#### Métodos:\n",
    "\n",
    "\n",
    "● list.append(x): adiciona um item ao fim da lista.\n",
    "\n",
    "\n",
    "● list.extend(iterable): adiciona todos os itens do iterável ao fim da lista.\n",
    "\n",
    "\n",
    "● list.insert(i, x): insere um item em uma dada posivel (i) dada pelo index\n",
    "\n",
    "\n",
    "● list.remove(x): remove o primeiro elemento cujo o valor for “x”\n",
    "\n",
    "\n",
    "● list.pop(i): remove o item da posição i da lista e retorna, caso o index não seja especificado, retona o último elemento.\n",
    "\n",
    "\n",
    "● list.clear(): remove tudo da lista\n",
    "\n",
    "\n",
    "● list.index(x[, start[, end]]): retorna o indice do primeiro elemento cujo valor seja x.\n",
    "\n",
    "\n",
    "● list.count(x): retorna o número de vezes que x aparece na lista\n",
    "\n",
    "\n",
    "● list.sort(key=nome, reverse=False): ordena os itens da lista\n",
    "\n",
    "\n",
    "● list.reverse(): reverte os elementos da lista\n",
    "\n",
    "\n",
    "● list.copy(): retorna uma lista com a cópia dos elementos da lista de origem.\n",
    "\n",
    "\n"
   ]
  },
  {
   "cell_type": "code",
   "execution_count": 13,
   "metadata": {},
   "outputs": [
    {
     "name": "stdout",
     "output_type": "stream",
     "text": [
      "[]\n",
      "[]\n",
      "['O carro', 'peixe', 123, 111]\n",
      "peixe\n",
      "111\n",
      "[45, 68, 90]\n",
      "68\n",
      "[4, 5, 6, 7, 8, 9, 10]\n"
     ]
    }
   ],
   "source": [
    "#Lista vazia\n",
    "lista = []\n",
    "print(lista)\n",
    "\n",
    "#ou\n",
    "lista = list()\n",
    "print(lista)\n",
    "\n",
    "#Lista preenchida\n",
    "lista = ['O carro','peixe',123,111]\n",
    "print(lista)\n",
    "\n",
    "#Buscando elementos na lista\n",
    "buscando = lista[1]\n",
    "print(buscando)\n",
    "\n",
    "#Buscando ultimo elemento na lista\n",
    "buscando = lista[-1]\n",
    "print(buscando)\n",
    "\n",
    "#Lista dentro de lista\n",
    "lista = [1,2,3,[45,68,90],50,74]\n",
    "\n",
    "#Buscando sub-lista\n",
    "buscando=lista[3]\n",
    "print(buscando)\n",
    "\n",
    "#Buscando valor dentro da sub-lista\n",
    "buscando = lista[3][1]\n",
    "print(buscando)\n",
    "\n",
    "#Percorrendo uma lista\n",
    "lista = [1,2,3,4,5,6,7,8,9,10]\n",
    "\n",
    "#compreensão de listas\n",
    "# [item for item in interavel]\n",
    "lista_num_maior_10 = [i for i in lista if i>3]\n",
    "print(lista_num_maior_10)"
   ]
  },
  {
   "cell_type": "markdown",
   "metadata": {},
   "source": [
    "### 7 - Tuplas\n",
    "Tupla é um tipo de estrutura de dados utilizada em Python que funciona de modo semelhante a uma lista, entretanto, com a característica principal de ser imutável."
   ]
  },
  {
   "cell_type": "code",
   "execution_count": 20,
   "metadata": {},
   "outputs": [
    {
     "name": "stdout",
     "output_type": "stream",
     "text": [
      "10\n",
      "(('MG', 'MINAS GERAIS'), ('SP', 'SÃO PAULO'), [1, 2, 3, 4, 5, 6, 7, 8, 9])\n"
     ]
    }
   ],
   "source": [
    "tupla = ((\"MG\",\"MINAS GERAIS\"),(\"SP\",\"SÃO PAULO\"),[1,2,3,4,5,6,7,8,9,10])\n",
    "print(tupla[2].pop()) #Remove o ultimo elemento e mostra na tela\n",
    "print(tupla) #Resultado depois da remoção"
   ]
  },
  {
   "cell_type": "markdown",
   "metadata": {},
   "source": [
    "### 8 - Funções\n",
    "Uma função é uma sequência de comandos que executa uma tarefa, sua principal finalidade é nos ajudar a organizar programas em pedaços que correspondam a como imaginamos uma solução do problema.\n",
    "\n",
    "\n",
    "link de referência = https://docs.python.org/pt-br/3/library/functions.html"
   ]
  },
  {
   "cell_type": "markdown",
   "metadata": {},
   "source": [
    "#### map() - Syntax map(função, iteráveis)\n",
    "Utilizamos esta função quando precisamos realizar uma operação específica nos itens da lista e transformá-los em outra coisa."
   ]
  },
  {
   "cell_type": "code",
   "execution_count": 32,
   "metadata": {},
   "outputs": [
    {
     "name": "stdout",
     "output_type": "stream",
     "text": [
      "[2, 4, 6, 8, 10, 12, 14, 16, 18, 20]\n",
      "[90.0, 224.01000000000002, 79.2, 112.41000000000001]\n"
     ]
    }
   ],
   "source": [
    "lista = [1,2,3,4,5,6,7,8,9,10]\n",
    "lista_somada = map(lambda x: x+x,lista)\n",
    "print(list(lista_somada))\n",
    "\n",
    "# 1 - Dada uma lista com n valores, aplicar a função de desconto usando map()\n",
    "lista = [100, 248.90, 88, 124.90]\n",
    "def desconto(preco):\n",
    " return preco * (1 - 0.1)\n",
    "\n",
    "resultado = map(lambda x: desconto(x),lista)\n",
    "print(list(resultado))"
   ]
  },
  {
   "cell_type": "markdown",
   "metadata": {},
   "source": [
    "#### filter() - Syntax filter(função, iteráveis)\n",
    "\n",
    "Utilizamos o filter() quando precisamos filtrar elementos da lista."
   ]
  },
  {
   "cell_type": "code",
   "execution_count": 34,
   "metadata": {},
   "outputs": [
    {
     "name": "stdout",
     "output_type": "stream",
     "text": [
      "[2, 4, 6, 8, 10]\n",
      "[248.9, 124.9]\n"
     ]
    }
   ],
   "source": [
    "lista = [1,2,3,4,5,6,7,8,9,10]\n",
    "lista_pares = filter(lambda x: x%2==0,lista)\n",
    "print(list(lista_pares))\n",
    "\n",
    "# 2 - Retornar os valores maiores que 100, usando filter()\n",
    "lista = [100, 248.90, 88, 124.90]\n",
    "lista_maiores = filter(lambda x: x>100,lista)\n",
    "print(list(lista_maiores))"
   ]
  },
  {
   "cell_type": "markdown",
   "metadata": {},
   "source": [
    "#### reduce() - Syntax reduce(função, iteráveis)\n",
    "\n",
    "Esta função aplica uma operação em todos os elementos da lista reduzindo a apenas um elemento.\n",
    "Agora, diferente das outras duas, essa função não é diretamente do interpretador, precisamos importar o módulo functools."
   ]
  },
  {
   "cell_type": "code",
   "execution_count": 35,
   "metadata": {},
   "outputs": [
    {
     "name": "stdout",
     "output_type": "stream",
     "text": [
      "55\n",
      "561.8\n"
     ]
    }
   ],
   "source": [
    "from functools import reduce\n",
    "#Soma os itens da lista\n",
    "\n",
    "lista = [1,2,3,4,5,6,7,8,9,10]\n",
    "soma = reduce(lambda x,y: x+y,lista)\n",
    "print(soma)\n",
    "\n",
    "# 3 - Somar todos os valores da lista usando reduce()\n",
    "lista = [100, 248.90, 88, 124.90]\n",
    "lista_soma = reduce(lambda x,y: x+y,lista)\n",
    "print(lista_soma)"
   ]
  },
  {
   "cell_type": "markdown",
   "metadata": {},
   "source": [
    "#### O que fazer para criar uma função?\n",
    "\n",
    "A sintaxe de uma função é definida por três partes: nome, parâmetros e corpo, o qual agrupa uma sequência de linhas que representa algum comportamento.\n",
    "No código abaixo, temos um exemplo de declaração de função em Python que tem como objetivo imprimir o parâmetro passado.\n",
    "Uma função só é executada quando chamamos por ela, observe que não só criamos a função foo, como logo abaixo a chamamos passando o parâmetro."
   ]
  },
  {
   "cell_type": "code",
   "execution_count": 31,
   "metadata": {},
   "outputs": [
    {
     "name": "stdout",
     "output_type": "stream",
     "text": [
      "Retornando valor da função\n"
     ]
    }
   ],
   "source": [
    "def foo(value):\n",
    "    print(f\"Retornando {value}\")\n",
    "foo(\"valor da função\")"
   ]
  },
  {
   "cell_type": "markdown",
   "metadata": {},
   "source": [
    "### 9 - Tipos de parâmetros (args, kwargs)"
   ]
  },
  {
   "cell_type": "markdown",
   "metadata": {},
   "source": [
    "#### Parâmetros\n",
    "\n",
    "Parâmetros são os nomes dados aos atributos que uma função pode receber, são eles que definem quais são os argumentos aceitos por uma função, podendo ou não ter um valor padrão.\n",
    "Temos aqui um exemplo de uma função recebendo dois parâmetros, um de valor que é obrigatório e um de horas, que não é obrigatório porque tem um valor padrão, porém pode ser modificado se informado"
   ]
  },
  {
   "cell_type": "code",
   "execution_count": 37,
   "metadata": {},
   "outputs": [
    {
     "name": "stdout",
     "output_type": "stream",
     "text": [
      "7700\n"
     ]
    }
   ],
   "source": [
    "def calcula_salario(valor,horas=220):\n",
    "    return valor * horas\n",
    "print(calcula_salario(35))"
   ]
  },
  {
   "cell_type": "markdown",
   "metadata": {},
   "source": [
    "#### *args e **kwargs\n",
    "\n",
    "As palavras args e kwargs são apenas usadas como convenção, poderia receber qualquer outro nome: *params, **kparams, por exemplo.\n",
    "\n",
    "#### *args \n",
    "\n",
    "é usado para passar uma lista de argumentos variável sem palavras chaves em forma de tupla, pois a função que recebe não necessariamente saberá quantos argumentos serão passados."
   ]
  },
  {
   "cell_type": "code",
   "execution_count": 38,
   "metadata": {},
   "outputs": [
    {
     "name": "stdout",
     "output_type": "stream",
     "text": [
      "O conteudo: ('Ola', 'Pessoas', 'Bonitas')\n",
      "Ola\n",
      "Pessoas\n",
      "Bonitas\n"
     ]
    }
   ],
   "source": [
    "def foo(*args):\n",
    "    print(f\"O conteudo: {args}\")\n",
    "    \n",
    "    for i in args:\n",
    "        print(i)\n",
    "\n",
    "foo(\"Ola\",\"Pessoas\",\"Bonitas\")"
   ]
  },
  {
   "cell_type": "markdown",
   "metadata": {},
   "source": [
    "#### **kwargs:\n",
    "\n",
    "É a abreviação de keyword arguments, ele permite passar um dicionário com inúmeras chaves para a função. Isso deixa definido que tal função irá receber tais valores, pronto."
   ]
  },
  {
   "cell_type": "code",
   "execution_count": 43,
   "metadata": {},
   "outputs": [
    {
     "name": "stdout",
     "output_type": "stream",
     "text": [
      "O nome dela eh: Nicole\n"
     ]
    }
   ],
   "source": [
    "def foo(**kwargs):\n",
    "    print(f'O nome dela eh: {kwargs.get(\"nome\")}')\n",
    "    \n",
    "foo(nome = 'Nicole',\n",
    "    idade = '22',\n",
    "    pais = 'Brasil')"
   ]
  },
  {
   "cell_type": "markdown",
   "metadata": {},
   "source": [
    "### 10 - Decorator\n",
    "O decorator é um método para envolver uma função, modificando o seu comportamento.\n",
    "Referência: https://pythonacademy.com.br/blog/domine-decorators-em-python"
   ]
  },
  {
   "cell_type": "code",
   "execution_count": 45,
   "metadata": {},
   "outputs": [
    {
     "name": "stdout",
     "output_type": "stream",
     "text": [
      "Estou antes da execução da função passada como argumento\n",
      " Sou um belo argumento\n",
      "Estou depois da execução da função passada como argumento\n"
     ]
    }
   ],
   "source": [
    "def decorator(funcao):\n",
    "    def embrulho():\n",
    "        print(\"Estou antes da execução da função passada como argumento\")\n",
    "        funcao()\n",
    "        print(\"Estou depois da execução da função passada como argumento\")\n",
    "    return embrulho\n",
    "\n",
    "def outra_funcao():\n",
    "    print(\" Sou um belo argumento\")\n",
    "\n",
    "funcao_decorada = decorator(outra_funcao)\n",
    "funcao_decorada()"
   ]
  },
  {
   "cell_type": "markdown",
   "metadata": {},
   "source": [
    "Podemos usar o decorator com o @, que fará o mesmo papel de como se estivessemos\n",
    "chamando a função da imagem anterior"
   ]
  },
  {
   "cell_type": "code",
   "execution_count": 46,
   "metadata": {},
   "outputs": [
    {
     "name": "stdout",
     "output_type": "stream",
     "text": [
      "[main] Tempo total de execução: 0.27127790451049805\n"
     ]
    }
   ],
   "source": [
    "import time\n",
    "\n",
    "# Define nosso decorator\n",
    "def calcula_duracao(funcao):\n",
    "    def wrapper():\n",
    "        # Calcula o tempo de execução\n",
    "        tempo_inicial = time.time()\n",
    "        funcao()\n",
    "        tempo_final = time.time()\n",
    "\n",
    "        # Formata a mensagem que será mostrada na tela\n",
    "        print(\"[{funcao}] Tempo total de execução: {tempo_total}\".format(\n",
    "            funcao=funcao.__name__,\n",
    "            tempo_total=str(tempo_final - tempo_inicial))\n",
    "        )\n",
    "\n",
    "    return wrapper\n",
    "\n",
    "# Decora a função com o decorator\n",
    "@calcula_duracao\n",
    "def main():\n",
    "    for n in range(0, 10000000):\n",
    "        pass\n",
    "\n",
    "# Executa a função main\n",
    "main()"
   ]
  },
  {
   "cell_type": "markdown",
   "metadata": {},
   "source": [
    "### 11 - Lambda\n",
    "As funções Lambda são chamadas de funções anônimas.\n",
    "\n",
    "\n",
    "lambda arguments : expression"
   ]
  },
  {
   "cell_type": "code",
   "execution_count": 47,
   "metadata": {},
   "outputs": [
    {
     "name": "stdout",
     "output_type": "stream",
     "text": [
      "15\n"
     ]
    }
   ],
   "source": [
    "x = lambda a : a + 10\n",
    "print(x(5))"
   ]
  },
  {
   "cell_type": "code",
   "execution_count": 49,
   "metadata": {},
   "outputs": [
    {
     "name": "stdout",
     "output_type": "stream",
     "text": [
      "22\n"
     ]
    }
   ],
   "source": [
    "def myfunc(n):\n",
    "  return lambda a : a * n\n",
    "\n",
    "mydoubler = myfunc(2)\n",
    "\n",
    "print(mydoubler(11))"
   ]
  },
  {
   "cell_type": "markdown",
   "metadata": {},
   "source": [
    "Para mais exemplos acesse: https://github.com/nickmaia/Jupyter_Notebook_Notes/blob/main/Resumo%20Python.ipynb"
   ]
  }
 ],
 "metadata": {
  "kernelspec": {
   "display_name": "Python 3 (ipykernel)",
   "language": "python",
   "name": "python3"
  },
  "language_info": {
   "codemirror_mode": {
    "name": "ipython",
    "version": 3
   },
   "file_extension": ".py",
   "mimetype": "text/x-python",
   "name": "python",
   "nbconvert_exporter": "python",
   "pygments_lexer": "ipython3",
   "version": "3.10.5"
  },
  "vscode": {
   "interpreter": {
    "hash": "935f35d734deaeca7df3b2131e53d3c4f54737b9a363973da14f6ff42fb9898c"
   }
  }
 },
 "nbformat": 4,
 "nbformat_minor": 2
}
