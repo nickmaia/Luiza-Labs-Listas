{
 "cells": [
  {
   "cell_type": "markdown",
   "metadata": {},
   "source": [
    "## API Rest\n",
    "\n",
    "● API (Application Programming Interface): Conjunto de normas que possibilita a \n",
    "comunicação entre plataformas através de uma série de padrões e protocolos \n",
    "(Techtudo)\n",
    "\n",
    "\n",
    "● REST (Representational State Transfer): Conjunto de restrições para aplicações \n",
    "Web (Red Hat).\n",
    "\n",
    "\n",
    "● API REST: Conjunto de restrições e normas para comunicação entre sistemas \n",
    "HTTP(s)/Web"
   ]
  },
  {
   "cell_type": "markdown",
   "metadata": {},
   "source": [
    "## Instalando o FastAPI\n",
    "link: https://fastapi.tiangolo.com/"
   ]
  },
  {
   "cell_type": "markdown",
   "metadata": {},
   "source": [
    "## Portas TCP\n",
    "● Um servidor pode ter vários serviços rodando nele.\n",
    "\n",
    "\n",
    "● O endereço do servidor é composto por IP + Porta.\n",
    "\n",
    "\n",
    "● Porta está associada a um serviço rodando no servidor.\n",
    "\n",
    "\n",
    "Exemplo:\n",
    "127.0.0.1:8000"
   ]
  },
  {
   "cell_type": "markdown",
   "metadata": {},
   "source": [
    "## Bibliotecas usadas pelo FastAPI\n",
    "\n",
    "● uvicorn\n",
    "○ ASGI (Asynchronous Server Gateway Interface)\n",
    "● Utiliza Pydantic.\n",
    "○ Serialização.\n"
   ]
  },
  {
   "cell_type": "code",
   "execution_count": 1,
   "metadata": {},
   "outputs": [],
   "source": [
    "from fastapi import FastAPI\n",
    "\n",
    "app = FastAPI()\n",
    "\n",
    "@app.get(\"/\")\n",
    "def read_root():\n",
    "    return {\"Hello\": \"World\"}\n",
    "\n",
    "###### Exemplo de Query Parameters ######\n",
    "dados = [{\"1\": \"A\"}, {\"2\": \"B\"}, {\"3\": \"C\"}]\n",
    "@app.get(\"/itens/\")\n",
    "async def ler_item(numero: int = 0):\n",
    "    return dados[numero]\n",
    "\n",
    "\n",
    "###### Exemplo de Body Request ######\n",
    "from pydantic import BaseModel\n",
    "\n",
    "\n",
    "class Item(BaseModel):\n",
    "    nome: str\n",
    "    id: int\n",
    "\n",
    "@app.post(\"/elementos/\")\n",
    "async def retornar_item(item: Item):\n",
    "    return item.id, item.nome\n"
   ]
  },
  {
   "cell_type": "markdown",
   "metadata": {},
   "source": [
    "comando para testar se está rodando: \n",
    "\n",
    "\n",
    "        uvicorn <nome do arquivo sem o .py>:app --reload\n",
    "\n",
    "    \n",
    "    \n",
    "Portas de acesso:\n",
    "\n",
    "\n",
    "        http://127.0.0.1:8000/\n",
    "        \n",
    "        \n",
    "        http://localhost:8000\n",
    "        \n",
    "        \n",
    "        utilizando o rest client no visual code.\n",
    "        \n",
    "        \n",
    "        Testando com a linha de comando no prompt de comando:\n",
    "        \n",
    "        \n",
    "        curl http://localhost:8000\n",
    "        \n",
    "        "
   ]
  },
  {
   "cell_type": "markdown",
   "metadata": {},
   "source": [
    "### Métodos HTTP\n",
    "\n",
    "**GET**\n",
    "O método GET solicita a representação de um recurso específico. Requisições utilizando o método GET devem retornar apenas dados.\n",
    "\n",
    "\n",
    "**HEAD**\n",
    "O método HEAD solicita uma resposta de forma idêntica ao método GET, porém sem conter o corpo da resposta.\n",
    "\n",
    "\n",
    "**POST**\n",
    "O método POST é utilizado para submeter uma entidade a um recurso específico, frequentemente causando uma mudança no estado do recurso ou efeitos colaterais no servidor.\n",
    "\n",
    "\n",
    "**PUT**\n",
    "O método PUT substitui todas as atuais representações do recurso de destino pela carga de dados da requisição.\n",
    "\n",
    "\n",
    "**DELETE**\n",
    "O método DELETE remove um recurso específico.\n",
    "\n",
    "\n",
    "**OPTIONS**\n",
    "O método OPTIONS é usado para descrever as opções de comunicação com o recurso de destino.\n",
    "\n",
    "\n",
    "Para mais informações acesse:\n",
    "https://developer.mozilla.org/pt-BR/docs/Web/HTTP/Methods\n",
    "\n",
    "\n",
    "**Parâmetros:**\n",
    "\n",
    "\n",
    "https://blog.rocketseat.com.br/tipos-de-parametros-nas-requisicoes-rest/\n",
    "\n",
    "\n",
    "https://fastapi.tiangolo.com/tutorial/body/\n",
    "\n",
    "\n",
    "https://fastapi.tiangolo.com/tutorial/query-params/"
   ]
  },
  {
   "cell_type": "code",
   "execution_count": null,
   "metadata": {},
   "outputs": [],
   "source": []
  }
 ],
 "metadata": {
  "kernelspec": {
   "display_name": "Python 3 (ipykernel)",
   "language": "python",
   "name": "python3"
  },
  "language_info": {
   "codemirror_mode": {
    "name": "ipython",
    "version": 3
   },
   "file_extension": ".py",
   "mimetype": "text/x-python",
   "name": "python",
   "nbconvert_exporter": "python",
   "pygments_lexer": "ipython3",
   "version": "3.10.5"
  },
  "vscode": {
   "interpreter": {
    "hash": "ded3c5602b61f7e4a12c38ad20e5c6d3256f092772182698136eedbab762b2be"
   }
  }
 },
 "nbformat": 4,
 "nbformat_minor": 2
}
